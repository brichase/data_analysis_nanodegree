{
 "cells": [
  {
   "cell_type": "markdown",
   "metadata": {
    "nbpresent": {
     "id": "af09cd1e-bb20-4c5b-99be-17538ab7de8a"
    }
   },
   "source": [
    "[Misleading with statistics article](https://medium.com/i-data/misleading-with-statistics-c63780efa928#.hsro2cnw0)"
   ]
  },
  {
   "cell_type": "markdown",
   "metadata": {
    "nbpresent": {
     "id": "f5df8118-2edb-4f5b-b52c-1a42d330afcf"
    }
   },
   "source": [
    "### Types of Bias\n",
    "* Author bias - author misrepresents knowingly or unknowlingly\n",
    "* Data - data collection reliable?\n",
    "\n",
    "[data collection](http://en.wikipedia.org/wiki/Data_collection)\n",
    "\n",
    "[sampling methods](http://en.wikipedia.org/wiki/Sampling_(statistics)#Sampling_methods)\n",
    "\n",
    "[other biases](http://en.wikipedia.org/wiki/Bias_(statistics))\n",
    "\n",
    "* Reader - \"Reader bias encompasses any preconceived notions or assumptions that a reader brings to interpreting a visualization.\" assumptions of previous domain knowledge or political, religions, cultural beliefs or familiarity with a chart type.\n",
    "\n",
    "[Disminformation Visualization](https://visualisingadvocacy.org/blog/disinformation-visualization-how-lie-datavis)\n",
    "\n",
    "### Different Types of Narratives\n",
    "\n",
    "#### Author-driven Examples\n",
    "There are fixed progression that the author dictates\n",
    "\n",
    "[Visualizing the Syrian Refugee Crisis by Wesam Manassra](http://visual.ly/visualizing-syrian-refugee-crisis?view=true)\n",
    "[The Facebook Offering: How It Compares by the New York Times](http://www.nytimes.com/interactive/2012/05/17/business/dealbook/how-the-facebook-offering-compares.html)\n",
    "\n",
    "#### Viewer-driven Examples\n",
    "The viewer controls more of the narrative\n",
    "\n",
    "[San Francisco Crimespotting by Stamen Design](http://sanfrancisco.crimespotting.org/)\n",
    "[Paths to the White House by the New York Times](http://www.nytimes.com/interactive/2012/11/02/us/politics/paths-to-the-white-house.html) hybrid approach\n",
    "\n",
    "#### Martini Glass \n",
    "Starts as author-driven and then opens up to be viewer driven\n",
    "\n",
    "[Drone Strikes](http://drones.pitchinteractive.com/)\n",
    "\n",
    "[Gun Deaths](http://guns.periscopic.com/)\n",
    "\n"
   ]
  },
  {
   "cell_type": "markdown",
   "metadata": {
    "nbpresent": {
     "id": "b869e6ee-c501-40c0-a6a2-3b805034ec8c"
    }
   },
   "source": [
    "#### Thinking with Joins\n",
    "This code snippet selects all the circles and adds the circles based on the data\n",
    "\n",
    "    d3.select('svg')\n",
    "      .selectAll(\"circle\")\n",
    "      .data(data)\n",
    "      .enter()\n",
    "      .append(\"circle\")\n",
    "      \n",
    "d3.select(\"svg\") - selects a container SVG element on the page\n",
    "\n",
    ".selectAll(\"circle\") - creates an empty selection to bind data\n",
    "\n",
    ".data(data) - binds data to the empty selection\n",
    "\n",
    ".enter() - selects all bound data elements not displayed\n",
    "\n",
    ".append(\"circle\") - creates SVG elements for the bound data\n",
    "\n",
    "[Thinking with joins](https://bost.ocks.org/mike/join/)\n",
    "\n",
    "    console.table(data);\n",
    "    \n",
    "    console.log(data.slice(0, 10);\n",
    "    \n",
    " This last command will print the first 10 rows of data\n",
    " \n",
    " #### Using extent() for scales\n",
    " \n",
    "     var time_extent = d3.extent(data, function(d) {\n",
    "         return d['date'];\n",
    "     });\n",
    "     \n",
    " \n",
    " Then change the last part to return something else\n",
    " \n",
    "      var time_extent = d3.extent(data, function(d) {\n",
    "         return d['attendance'];\n",
    "     });\n",
    "     \n",
    "Look to the file ./basic_charts/basic_charts_update.html for more information\n",
    "\n",
    "[Mozilla developer unary plus](https://developer.mozilla.org/en-US/docs/Web/JavaScript/Reference/Operators/Arithmetic_Operators#.2b_(Unary_Plus%29)\n",
    "\n",
    "Converts data type to a number ^\n",
    "\n",
    "          // Find range of attendance column\n",
    "          var time_extent = d3.extent(data, function(d) {\n",
    "              return d['attendance'];\n",
    "          });\n",
    "          \n",
    "^ the function is called an anonymous accessor function (offical?). Part of the secret sauce to make interactive graphics\n",
    "\n"
   ]
  },
  {
   "cell_type": "markdown",
   "metadata": {},
   "source": [
    "### How do you start a simple webserver through the os x terminal?\n",
    "\n",
    "Go to directory with html file\n",
    "\n",
    "    python -m SimpleHTTPServer\n",
    "    \n",
    "open webpage to [localhost:8000](localhost:8000)"
   ]
  },
  {
   "cell_type": "code",
   "execution_count": null,
   "metadata": {
    "collapsed": true
   },
   "outputs": [],
   "source": []
  }
 ],
 "metadata": {
  "anaconda-cloud": {},
  "kernelspec": {
   "display_name": "Javascript (Node.js)",
   "language": "javascript",
   "name": "javascript"
  },
  "language_info": {
   "file_extension": ".js",
   "mimetype": "application/javascript",
   "name": "javascript",
   "version": "6.3.0"
  }
 },
 "nbformat": 4,
 "nbformat_minor": 1
}
